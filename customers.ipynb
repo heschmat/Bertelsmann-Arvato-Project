{
 "cells": [
  {
   "cell_type": "code",
   "execution_count": 108,
   "id": "computational-movement",
   "metadata": {},
   "outputs": [],
   "source": [
    "%load_ext autoreload\n",
    "\n",
    "%autoreload 2"
   ]
  },
  {
   "cell_type": "code",
   "execution_count": 46,
   "id": "steady-happiness",
   "metadata": {},
   "outputs": [],
   "source": [
    "import numpy as np\n",
    "import pandas as pd\n",
    "import matplotlib.pyplot as plt\n",
    "\n",
    "import seaborn as sns"
   ]
  },
  {
   "cell_type": "code",
   "execution_count": 111,
   "id": "major-beast",
   "metadata": {},
   "outputs": [],
   "source": [
    "import helper"
   ]
  },
  {
   "cell_type": "code",
   "execution_count": null,
   "id": "photographic-apple",
   "metadata": {},
   "outputs": [],
   "source": []
  },
  {
   "cell_type": "code",
   "execution_count": 127,
   "id": "acquired-thailand",
   "metadata": {},
   "outputs": [
    {
     "data": {
      "text/plain": [
       "(191652, 369)"
      ]
     },
     "execution_count": 127,
     "metadata": {},
     "output_type": "execute_result"
    }
   ],
   "source": [
    "df = pd.read_csv('./dataset/customers.csv', delimiter= ';', low_memory= False)\n",
    "df.shape"
   ]
  },
  {
   "cell_type": "code",
   "execution_count": 128,
   "id": "trained-sessions",
   "metadata": {},
   "outputs": [
    {
     "data": {
      "text/plain": [
       "float64    267\n",
       "int64       94\n",
       "object       8\n",
       "dtype: int64"
      ]
     },
     "execution_count": 128,
     "metadata": {},
     "output_type": "execute_result"
    }
   ],
   "source": [
    "df.dtypes.value_counts()"
   ]
  },
  {
   "cell_type": "code",
   "execution_count": null,
   "id": "graduate-toronto",
   "metadata": {},
   "outputs": [],
   "source": []
  },
  {
   "cell_type": "markdown",
   "id": "western-relation",
   "metadata": {},
   "source": [
    "## 1. Missing Values"
   ]
  },
  {
   "cell_type": "markdown",
   "id": "silent-prague",
   "metadata": {},
   "source": [
    "### Missing values in feature space"
   ]
  },
  {
   "cell_type": "code",
   "execution_count": 129,
   "id": "reduced-supervisor",
   "metadata": {},
   "outputs": [
    {
     "data": {
      "image/png": "[encoded data removed]",
      "text/plain": [
       "<Figure size 432x288 with 1 Axes>"
      ]
     },
     "metadata": {
      "needs_background": "light"
     },
     "output_type": "display_data"
    }
   ],
   "source": [
    "na_col = df.isna().mean(axis= 0).round(2)\n",
    "# Visualize the missing values in feature space\n",
    "na_col.hist()\n",
    "\n",
    "# Make shure the count is done per column\n",
    "assert(na_col.shape[0] == df.shape[1])"
   ]
  },
  {
   "cell_type": "code",
   "execution_count": 130,
   "id": "sustained-reputation",
   "metadata": {},
   "outputs": [
    {
     "data": {
      "text/plain": [
       "1.00      1\n",
       "0.99      1\n",
       "0.97      1\n",
       "0.94      1\n",
       "0.58      1\n",
       "0.44      1\n",
       "0.29     64\n",
       "0.28     12\n",
       "0.27    118\n",
       "0.26     28\n",
       "0.25     12\n",
       "0.24     12\n",
       "0.23      1\n",
       "0.02     20\n",
       "0.00     96\n",
       "dtype: int64"
      ]
     },
     "execution_count": 130,
     "metadata": {},
     "output_type": "execute_result"
    }
   ],
   "source": [
    "na_col.value_counts().sort_index(ascending= False)"
   ]
  },
  {
   "cell_type": "code",
   "execution_count": 131,
   "id": "herbal-quantity",
   "metadata": {},
   "outputs": [
    {
     "data": {
      "text/plain": [
       "ALTER_KIND1     0.94\n",
       "ALTER_KIND2     0.97\n",
       "ALTER_KIND3     0.99\n",
       "ALTER_KIND4     1.00\n",
       "EXTSEL992       0.44\n",
       "KK_KUNDENTYP    0.58\n",
       "dtype: float64"
      ]
     },
     "execution_count": 131,
     "metadata": {},
     "output_type": "execute_result"
    }
   ],
   "source": [
    "# Which columns have more than 40% missing\n",
    "na_col.loc[na_col > .4]"
   ]
  },
  {
   "cell_type": "code",
   "execution_count": 143,
   "id": "representative-cross",
   "metadata": {},
   "outputs": [],
   "source": [
    "# Remove the columns that have more than 90% missing:\n",
    "cols_drop = na_col.loc[na_col > .9].index.values\n",
    "\n",
    "df = df.drop(cols_drop, axis= 1)"
   ]
  },
  {
   "cell_type": "code",
   "execution_count": null,
   "id": "gross-transport",
   "metadata": {},
   "outputs": [],
   "source": []
  },
  {
   "cell_type": "markdown",
   "id": "passing-requirement",
   "metadata": {},
   "source": [
    "### Missing values per Observation (row-wise)"
   ]
  },
  {
   "cell_type": "code",
   "execution_count": 132,
   "id": "indian-correlation",
   "metadata": {},
   "outputs": [
    {
     "data": {
      "text/plain": [
       "<AxesSubplot:>"
      ]
     },
     "execution_count": 132,
     "metadata": {},
     "output_type": "execute_result"
    },
    {
     "data": {
      "image/png": "[encoded data removed]",
      "text/plain": [
       "<Figure size 432x288 with 1 Axes>"
      ]
     },
     "metadata": {
      "needs_background": "light"
     },
     "output_type": "display_data"
    }
   ],
   "source": [
    "na_row = df.isnull().mean(axis= 1).sort_values(ascending= False)\n",
    "na_row.hist()"
   ]
  },
  {
   "cell_type": "code",
   "execution_count": 133,
   "id": "dutch-canada",
   "metadata": {},
   "outputs": [
    {
     "data": {
      "text/plain": [
       "False    140901\n",
       "True      50751\n",
       "Name: flag_na, dtype: int64"
      ]
     },
     "execution_count": 133,
     "metadata": {},
     "output_type": "execute_result"
    }
   ],
   "source": [
    "# About a 1/3 of the customers have missing values\n",
    "# in more than half of their features\n",
    "df['flag_na'] = na_row >= .5\n",
    "df['flag_na'].value_counts()"
   ]
  },
  {
   "cell_type": "code",
   "execution_count": 134,
   "id": "piano-negative",
   "metadata": {},
   "outputs": [
    {
     "data": {
      "text/plain": [
       "1       33\n",
       "2       74\n",
       "3    46809\n",
       "4     1134\n",
       "5     2701\n",
       "Name: FINANZ_MINIMALIST, dtype: int64"
      ]
     },
     "execution_count": 134,
     "metadata": {},
     "output_type": "execute_result"
    }
   ],
   "source": [
    "## Compare and contrast the two \"groups\" of customers in feature space\n",
    "\n",
    "df.loc[df['flag_na'] == 1, 'FINANZ_MINIMALIST'].value_counts().sort_index()"
   ]
  },
  {
   "cell_type": "code",
   "execution_count": 135,
   "id": "sacred-soviet",
   "metadata": {},
   "outputs": [
    {
     "data": {
      "text/plain": [
       "1     1716\n",
       "2     9779\n",
       "3    19630\n",
       "4    28028\n",
       "5    81748\n",
       "Name: FINANZ_MINIMALIST, dtype: int64"
      ]
     },
     "execution_count": 135,
     "metadata": {},
     "output_type": "execute_result"
    }
   ],
   "source": [
    "df.loc[df['flag_na'] == 0, 'FINANZ_MINIMALIST'].value_counts().sort_index()"
   ]
  },
  {
   "cell_type": "code",
   "execution_count": 139,
   "id": "intimate-alberta",
   "metadata": {},
   "outputs": [
    {
     "data": {
      "text/plain": [
       "<matplotlib.legend.Legend at 0x1af00f52b80>"
      ]
     },
     "execution_count": 139,
     "metadata": {},
     "output_type": "execute_result"
    },
    {
     "data": {
      "image/png": "[encoded data removed]",
      "text/plain": [
       "<Figure size 576x288 with 1 Axes>"
      ]
     },
     "metadata": {
      "needs_background": "light"
     },
     "output_type": "display_data"
    }
   ],
   "source": [
    "labels = list(range(1, 6))\n",
    "normal = df.loc[df['flag_na'] == 0, 'FINANZ_MINIMALIST'].value_counts().sort_index()\n",
    "missing = df.loc[df['flag_na'] == 1, 'FINANZ_MINIMALIST'].value_counts().sort_index()\n",
    "\n",
    "x = np.arange(len(labels))  # the label locations\n",
    "width = 0.35  # the width of the bars\n",
    "\n",
    "fig, ax = plt.subplots(figsize= (8, 4))\n",
    "rects1 = ax.bar(x - width/2, normal, width, label= 'Normal')\n",
    "rects2 = ax.bar(x + width/2, missing, width, label= 'Missing')\n",
    "\n",
    "# Add some text for labels, title and custom x-axis tick labels, etc.\n",
    "ax.set_ylabel('FINANZ_MINIMALIST')\n",
    "ax.set_title('Count by missing values in the feature space')\n",
    "ax.set_xticks(x)\n",
    "ax.set_xticklabels(labels)\n",
    "ax.legend()"
   ]
  },
  {
   "cell_type": "code",
   "execution_count": null,
   "id": "multiple-arnold",
   "metadata": {},
   "outputs": [],
   "source": []
  },
  {
   "cell_type": "markdown",
   "id": "precious-metallic",
   "metadata": {},
   "source": [
    "## 2. Non-numeric columns"
   ]
  },
  {
   "cell_type": "code",
   "execution_count": 144,
   "id": "corporate-crawford",
   "metadata": {},
   "outputs": [
    {
     "data": {
      "text/plain": [
       "Index(['LNR', 'AGER_TYP', 'AKT_DAT_KL', 'ALTER_HH', 'ALTERSKATEGORIE_FEIN',\n",
       "       'ANZ_HAUSHALTE_AKTIV', 'ANZ_HH_TITEL', 'ANZ_KINDER', 'ANZ_PERSONEN',\n",
       "       'ANZ_STATISTISCHE_HAUSHALTE',\n",
       "       ...\n",
       "       'W_KEIT_KIND_HH', 'WOHNDAUER_2008', 'WOHNLAGE', 'ZABEOTYP',\n",
       "       'PRODUCT_GROUP', 'CUSTOMER_GROUP', 'ONLINE_PURCHASE', 'ANREDE_KZ',\n",
       "       'ALTERSKATEGORIE_GROB', 'flag_na'],\n",
       "      dtype='object', length=366)"
      ]
     },
     "execution_count": 144,
     "metadata": {},
     "output_type": "execute_result"
    }
   ],
   "source": [
    "df.columns"
   ]
  },
  {
   "cell_type": "code",
   "execution_count": 145,
   "id": "curious-piece",
   "metadata": {},
   "outputs": [
    {
     "data": {
      "text/plain": [
       "Index(['CAMEO_DEU_2015', 'CAMEO_DEUG_2015', 'CAMEO_INTL_2015',\n",
       "       'D19_LETZTER_KAUF_BRANCHE', 'EINGEFUEGT_AM', 'OST_WEST_KZ',\n",
       "       'PRODUCT_GROUP', 'CUSTOMER_GROUP'],\n",
       "      dtype='object')"
      ]
     },
     "execution_count": 145,
     "metadata": {},
     "output_type": "execute_result"
    }
   ],
   "source": [
    "cols_obj = df.select_dtypes('O')\n",
    "cols_obj.columns"
   ]
  },
  {
   "cell_type": "code",
   "execution_count": null,
   "id": "dominant-military",
   "metadata": {},
   "outputs": [],
   "source": []
  }
 ],
 "metadata": {
  "kernelspec": {
   "display_name": "Python 3",
   "language": "python",
   "name": "python3"
  },
  "language_info": {
   "codemirror_mode": {
    "name": "ipython",
    "version": 3
   },
   "file_extension": ".py",
   "mimetype": "text/x-python",
   "name": "python",
   "nbconvert_exporter": "python",
   "pygments_lexer": "ipython3",
   "version": "3.8.5"
  }
 },
 "nbformat": 4,
 "nbformat_minor": 5
}
